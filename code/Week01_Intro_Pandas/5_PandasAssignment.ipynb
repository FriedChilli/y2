{
  "cells": [
    {
      "cell_type": "markdown",
      "metadata": {
        "id": "OIom1X-v0TGc"
      },
      "source": [
        "# Assignment - Basic Pandas\n",
        "<sup>Created by Natawut Nupairoj, Department of Computer Engineering, Chulalongkorn University</sup>\n",
        "\n",
        "Using pandas to explore youtube trending data from GB (GBvideos.csv and GB_category_id.json) and answer the questions."
      ]
    },
    {
      "cell_type": "code",
      "execution_count": null,
      "metadata": {
        "id": "_ooeQeBn0TGf"
      },
      "outputs": [],
      "source": [
        "import pandas as pd\n",
        "import numpy as np"
      ]
    },
    {
      "cell_type": "markdown",
      "metadata": {
        "id": "RNyAGpWT0TGh"
      },
      "source": [
        "To simplify data retrieval process on Colab, we heck if we are in the Colab environment and download data files from a shared drive and save them in folder \"data\".\n",
        "\n",
        "For those using jupyter notebook on the local computer, you can read data directly assuming you save data in the folder \"data\"."
      ]
    },
    {
      "cell_type": "code",
      "execution_count": null,
      "metadata": {
        "colab": {
          "base_uri": "https://localhost:8080/"
        },
        "id": "qro_9JWV0TGi",
        "outputId": "3e7f5c45-98ec-4160-bcc1-1697a048d29b"
      },
      "outputs": [
        {
          "name": "stdout",
          "output_type": "stream",
          "text": [
            "--2022-01-10 12:31:42--  https://github.com/kaopanboonyuen/2110446_DataScience_2021s2/raw/main/datasets/data.tgz\n",
            "Resolving github.com (github.com)... 140.82.114.4\n",
            "Connecting to github.com (github.com)|140.82.114.4|:443... connected.\n",
            "HTTP request sent, awaiting response... 302 Found\n",
            "Location: https://raw.githubusercontent.com/kaopanboonyuen/2110446_DataScience_2021s2/main/datasets/data.tgz [following]\n",
            "--2022-01-10 12:31:42--  https://raw.githubusercontent.com/kaopanboonyuen/2110446_DataScience_2021s2/main/datasets/data.tgz\n",
            "Resolving raw.githubusercontent.com (raw.githubusercontent.com)... 185.199.108.133, 185.199.111.133, 185.199.109.133, ...\n",
            "Connecting to raw.githubusercontent.com (raw.githubusercontent.com)|185.199.108.133|:443... connected.\n",
            "HTTP request sent, awaiting response... 200 OK\n",
            "Length: 45477462 (43M) [application/octet-stream]\n",
            "Saving to: ‘data.tgz’\n",
            "\n",
            "data.tgz            100%[===================>]  43.37M   202MB/s    in 0.2s    \n",
            "\n",
            "2022-01-10 12:31:43 (202 MB/s) - ‘data.tgz’ saved [45477462/45477462]\n",
            "\n",
            "data/\n",
            "data/._GB_category_id.json\n",
            "data/GB_category_id.json\n",
            "data/._US_category_id.json\n",
            "data/US_category_id.json\n",
            "data/._USvideos.csv\n",
            "data/USvideos.csv\n",
            "data/._GBvideos.csv\n",
            "data/GBvideos.csv\n"
          ]
        }
      ],
      "source": [
        "import sys\n",
        "IN_COLAB = 'google.colab' in sys.modules\n",
        "if IN_COLAB:\n",
        "    !wget https://github.com/kaopanboonyuen/2110446_DataScience_2021s2/raw/main/datasets/data.tgz -O data.tgz\n",
        "    !tar -xzvf data.tgz"
      ]
    },
    {
      "cell_type": "markdown",
      "metadata": {
        "id": "rkNi2LHT0TGj"
      },
      "source": [
        "## How many rows are there in the GBvideos.csv after removing duplications?"
      ]
    },
    {
      "cell_type": "code",
      "execution_count": 5,
      "metadata": {
        "id": "PFzYyW7V0TGj",
        "colab": {
          "base_uri": "https://localhost:8080/"
        },
        "outputId": "d57b2426-6e3e-4545-bfa7-4b50a7ddb81b"
      },
      "outputs": [
        {
          "output_type": "stream",
          "name": "stdout",
          "text": [
            "          video_id trending_date  \\\n",
            "0      Jw1Y-zhQURU      17.14.11   \n",
            "1      3s1rvMFUweQ      17.14.11   \n",
            "2      n1WpP7iowLc      17.14.11   \n",
            "3      PUTEiSjKwJU      17.14.11   \n",
            "4      rHwDegptbI4      17.14.11   \n",
            "...            ...           ...   \n",
            "38911  l884wKofd54      18.14.06   \n",
            "38912  IP8k2xkhOdI      18.14.06   \n",
            "38913  Il-an3K9pjg      18.14.06   \n",
            "38914  -DRsfNObKIQ      18.14.06   \n",
            "38915  4YFo4bdMO8Q      18.14.06   \n",
            "\n",
            "                                                   title  \\\n",
            "0          John Lewis Christmas Ad 2017 - #MozTheMonster   \n",
            "1              Taylor Swift: …Ready for It? (Live) - SNL   \n",
            "2             Eminem - Walk On Water (Audio) ft. Beyoncé   \n",
            "3      Goals from Salford City vs Class of 92 and Fri...   \n",
            "4      Dashcam captures truck's near miss with child ...   \n",
            "...                                                  ...   \n",
            "38911  Enrique Iglesias - MOVE TO MIAMI (Official Vid...   \n",
            "38912  Jacob Sartorius - Up With It (Official Music V...   \n",
            "38913                 Anne-Marie - 2002 [Official Video]   \n",
            "38914  Eleni Foureira - Fuego - Cyprus - LIVE - First...   \n",
            "38915  KYLE - Ikuyo feat.  2 Chainz & Sophia Black [A...   \n",
            "\n",
            "                    channel_title  category_id              publish_time  \\\n",
            "0                      John Lewis           26  2017-11-10T07:38:29.000Z   \n",
            "1             Saturday Night Live           24  2017-11-12T06:24:44.000Z   \n",
            "2                      EminemVEVO           10  2017-11-10T17:00:03.000Z   \n",
            "3      Salford City Football Club           17  2017-11-13T02:30:38.000Z   \n",
            "4                Cute Girl Videos           25  2017-11-13T01:45:13.000Z   \n",
            "...                           ...          ...                       ...   \n",
            "38911         EnriqueIglesiasVEVO           10  2018-05-09T07:00:01.000Z   \n",
            "38912             Jacob Sartorius           10  2018-05-11T17:09:16.000Z   \n",
            "38913                  Anne-Marie           10  2018-05-08T11:05:08.000Z   \n",
            "38914     Eurovision Song Contest           24  2018-05-08T20:32:32.000Z   \n",
            "38915              SuperDuperKyle           10  2018-05-11T04:06:35.000Z   \n",
            "\n",
            "                                                    tags     views   likes  \\\n",
            "0      christmas|\"john lewis christmas\"|\"john lewis\"|...   7224515   55681   \n",
            "1      SNL|\"Saturday Night Live\"|\"SNL Season 43\"|\"Epi...   1053632   25561   \n",
            "2      Eminem|\"Walk\"|\"On\"|\"Water\"|\"Aftermath/Shady/In...  17158579  787420   \n",
            "3      Salford City FC|\"Salford City\"|\"Salford\"|\"Clas...     27833     193   \n",
            "4                                                 [none]      9815      30   \n",
            "...                                                  ...       ...     ...   \n",
            "38911  Enrique Iglesias feat. Pitbull|\"MOVE TO MIAMI\"...  25066952  268088   \n",
            "38912  jacob sartorius|\"jacob\"|\"up with it\"|\"jacob sa...   1492219   61998   \n",
            "38913  anne|\"marie\"|\"anne-marie\"|\"2002\"|\"two thousand...  29641412  394830   \n",
            "38914  Eurovision Song Contest|\"2018\"|\"Lisbon\"|\"Cypru...  14317515  151870   \n",
            "38915  Kyle|\"SuperDuperKyle\"|\"Ikuyo\"|\"2 Chainz\"|\"Soph...    607552   18271   \n",
            "\n",
            "       dislikes  comment_count  \\\n",
            "0         10247           9479   \n",
            "1          2294           2757   \n",
            "2         43420         125882   \n",
            "3            12             37   \n",
            "4             2             30   \n",
            "...         ...            ...   \n",
            "38911     12783           9933   \n",
            "38912     13781          24330   \n",
            "38913      8892          19988   \n",
            "38914     45875          26766   \n",
            "38915       274           1423   \n",
            "\n",
            "                                       thumbnail_link  comments_disabled  \\\n",
            "0      https://i.ytimg.com/vi/Jw1Y-zhQURU/default.jpg              False   \n",
            "1      https://i.ytimg.com/vi/3s1rvMFUweQ/default.jpg              False   \n",
            "2      https://i.ytimg.com/vi/n1WpP7iowLc/default.jpg              False   \n",
            "3      https://i.ytimg.com/vi/PUTEiSjKwJU/default.jpg              False   \n",
            "4      https://i.ytimg.com/vi/rHwDegptbI4/default.jpg              False   \n",
            "...                                               ...                ...   \n",
            "38911  https://i.ytimg.com/vi/l884wKofd54/default.jpg              False   \n",
            "38912  https://i.ytimg.com/vi/IP8k2xkhOdI/default.jpg              False   \n",
            "38913  https://i.ytimg.com/vi/Il-an3K9pjg/default.jpg              False   \n",
            "38914  https://i.ytimg.com/vi/-DRsfNObKIQ/default.jpg              False   \n",
            "38915  https://i.ytimg.com/vi/4YFo4bdMO8Q/default.jpg              False   \n",
            "\n",
            "       ratings_disabled  video_error_or_removed  \\\n",
            "0                 False                   False   \n",
            "1                 False                   False   \n",
            "2                 False                   False   \n",
            "3                 False                   False   \n",
            "4                 False                   False   \n",
            "...                 ...                     ...   \n",
            "38911             False                   False   \n",
            "38912             False                   False   \n",
            "38913             False                   False   \n",
            "38914             False                   False   \n",
            "38915             False                   False   \n",
            "\n",
            "                                             description  \n",
            "0      Click here to continue the story and make your...  \n",
            "1      Musical guest Taylor Swift performs …Ready for...  \n",
            "2      Eminem's new track Walk on Water ft. Beyoncé i...  \n",
            "3      Salford drew 4-4 against the Class of 92 and F...  \n",
            "4      Dashcam captures truck's near miss with child ...  \n",
            "...                                                  ...  \n",
            "38911  NEW SONG - MOVE TO MIAMI feat. Pitbull (Click ...  \n",
            "38912  THE OFFICIAL UP WITH IT MUSIC VIDEO!Get my new...  \n",
            "38913  Get 2002 by Anne-Marie HERE ▶ http://ad.gt/200...  \n",
            "38914  Eleni Foureira represented Cyprus at the first...  \n",
            "38915  Debut album 'Light of Mine' out now: http://ky...  \n",
            "\n",
            "[38745 rows x 16 columns]\n"
          ]
        }
      ],
      "source": [
        "import pandas as pd\n",
        "df = pd.read_csv(\"GBvideos.csv\")\n",
        "\n",
        "clean_df = df.drop_duplicates()\n",
        "print(clean_df)"
      ]
    },
    {
      "cell_type": "markdown",
      "metadata": {
        "id": "mSc2U7HJ0TGk"
      },
      "source": [
        "## How many VDO's that contain at least one record (row) of \"dislikes\" more than \"likes\"?  <font color=red>DO NOT group by the data and make sure that you count only unique title!</font>"
      ]
    },
    {
      "cell_type": "code",
      "execution_count": null,
      "metadata": {
        "id": "Q0NF1dI40TGk"
      },
      "outputs": [],
      "source": []
    },
    {
      "cell_type": "markdown",
      "metadata": {
        "id": "oNxh-5CL0TGk"
      },
      "source": [
        "## How many VDO that are trending on 22 Jan 2018 with comments more than 10,000 comments?"
      ]
    },
    {
      "cell_type": "code",
      "execution_count": null,
      "metadata": {
        "id": "07-y5sNw0TGl"
      },
      "outputs": [],
      "source": []
    },
    {
      "cell_type": "markdown",
      "metadata": {
        "id": "jnBQwfD70TGl"
      },
      "source": [
        "## Which date that has the minimum average number of comments per VDO?"
      ]
    },
    {
      "cell_type": "code",
      "execution_count": null,
      "metadata": {
        "id": "KIDZyavc0TGl"
      },
      "outputs": [],
      "source": []
    },
    {
      "cell_type": "markdown",
      "metadata": {
        "id": "wL7iTiic0TGl"
      },
      "source": [
        "## Compare \"Sports\" and \"Comady\", how many days that there are more total daily views of VDO in \"Sports\" category than in \"Comady\" category?"
      ]
    },
    {
      "cell_type": "code",
      "execution_count": null,
      "metadata": {
        "id": "UIzvYqdA0TGm"
      },
      "outputs": [],
      "source": []
    }
  ],
  "metadata": {
    "colab": {
      "provenance": []
    },
    "kernelspec": {
      "display_name": "Python 3 (ipykernel)",
      "language": "python",
      "name": "python3"
    },
    "language_info": {
      "codemirror_mode": {
        "name": "ipython",
        "version": 3
      },
      "file_extension": ".py",
      "mimetype": "text/x-python",
      "name": "python",
      "nbconvert_exporter": "python",
      "pygments_lexer": "ipython3",
      "version": "3.9.13"
    },
    "toc": {
      "base_numbering": 1,
      "nav_menu": {},
      "number_sections": true,
      "sideBar": true,
      "skip_h1_title": false,
      "title_cell": "Table of Contents",
      "title_sidebar": "Contents",
      "toc_cell": false,
      "toc_position": {},
      "toc_section_display": true,
      "toc_window_display": false
    },
    "varInspector": {
      "cols": {
        "lenName": 16,
        "lenType": 16,
        "lenVar": 40
      },
      "kernels_config": {
        "python": {
          "delete_cmd_postfix": "",
          "delete_cmd_prefix": "del ",
          "library": "var_list.py",
          "varRefreshCmd": "print(var_dic_list())"
        },
        "r": {
          "delete_cmd_postfix": ") ",
          "delete_cmd_prefix": "rm(",
          "library": "var_list.r",
          "varRefreshCmd": "cat(var_dic_list()) "
        }
      },
      "types_to_exclude": [
        "module",
        "function",
        "builtin_function_or_method",
        "instance",
        "_Feature"
      ],
      "window_display": false
    }
  },
  "nbformat": 4,
  "nbformat_minor": 0
}